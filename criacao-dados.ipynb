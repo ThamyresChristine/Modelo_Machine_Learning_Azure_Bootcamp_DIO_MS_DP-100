{
 "cells": [
  {
   "cell_type": "code",
   "execution_count": 1,
   "id": "5a0455bf",
   "metadata": {},
   "outputs": [
    {
     "name": "stdout",
     "output_type": "stream",
     "text": [
      "Arquivo 'vendas_sorvetes.csv' gerado com sucesso!\n"
     ]
    }
   ],
   "source": [
    "import pandas as pd\n",
    "import random\n",
    "from datetime import datetime, timedelta\n",
    "\n",
    "# Gerando 100 registros fictícios\n",
    "data_venda = [datetime(2025, 1, 1) + timedelta(days=i) for i in range(100)]\n",
    "quantidade_sorvetes = [random.randint(20, 80) for _ in range(100)]\n",
    "temperatura = [random.uniform(25, 35) for _ in range(100)]\n",
    "\n",
    "# Criando o DataFrame\n",
    "df = pd.DataFrame({\n",
    "    \"Data da Venda\": [d.strftime(\"%d/%m/%Y\") for d in data_venda],\n",
    "    \"Quantidade de Sorvetes\": quantidade_sorvetes,\n",
    "    \"Temperatura (°C)\": [round(temp, 1) for temp in temperatura]\n",
    "})\n",
    "\n",
    "# Salvando como CSV\n",
    "df.to_csv(\"vendas_sorvetes.csv\", index=False, encoding=\"utf-8\")\n",
    "print(\"Arquivo 'vendas_sorvetes.csv' gerado com sucesso!\")"
   ]
  }
 ],
 "metadata": {
  "kernelspec": {
   "display_name": "base",
   "language": "python",
   "name": "python3"
  },
  "language_info": {
   "codemirror_mode": {
    "name": "ipython",
    "version": 3
   },
   "file_extension": ".py",
   "mimetype": "text/x-python",
   "name": "python",
   "nbconvert_exporter": "python",
   "pygments_lexer": "ipython3",
   "version": "3.12.7"
  }
 },
 "nbformat": 4,
 "nbformat_minor": 5
}
