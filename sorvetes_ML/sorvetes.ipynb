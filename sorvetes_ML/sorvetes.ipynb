{
 "cells": [
  {
   "cell_type": "markdown",
   "id": "67cd9689",
   "metadata": {},
   "source": [
    "# Script de treinamento com SDK do Python"
   ]
  },
  {
   "cell_type": "code",
   "execution_count": 28,
   "id": "b502c7e6",
   "metadata": {},
   "outputs": [
    {
     "name": "stderr",
     "output_type": "stream",
     "text": [
      "Overriding of current TracerProvider is not allowed\n",
      "Overriding of current LoggerProvider is not allowed\n",
      "Overriding of current MeterProvider is not allowed\n",
      "Attempting to instrument while already instrumented\n",
      "Attempting to instrument while already instrumented\n",
      "Attempting to instrument while already instrumented\n"
     ]
    }
   ],
   "source": [
    "from azure.identity import DefaultAzureCredential, InteractiveBrowserCredential\n",
    "from azure.ai.ml import MLClient\n",
    "\n",
    "credential = DefaultAzureCredential()\n",
    "\n",
    "ml_client = MLClient(\n",
    "    credential,\n",
    "    subscription_id=\"Azure subscription 1\",\n",
    "    resource_group=\"rg-dio-dp-100\",\n",
    "    workspace_name=\"workspace-dio-dp-100\" \n",
    ")"
   ]
  },
  {
   "cell_type": "code",
   "execution_count": 30,
   "id": "ff240888",
   "metadata": {},
   "outputs": [
    {
     "name": "stderr",
     "output_type": "stream",
     "text": [
      "Found the config file in: .\\config.json\n"
     ]
    },
    {
     "name": "stderr",
     "output_type": "stream",
     "text": [
      "Overriding of current TracerProvider is not allowed\n",
      "Overriding of current LoggerProvider is not allowed\n",
      "Overriding of current MeterProvider is not allowed\n",
      "Attempting to instrument while already instrumented\n",
      "Attempting to instrument while already instrumented\n",
      "Attempting to instrument while already instrumented\n"
     ]
    }
   ],
   "source": [
    "ml_client = MLClient.from_config(credential=credential)"
   ]
  },
  {
   "cell_type": "code",
   "execution_count": null,
   "id": "6991e13a",
   "metadata": {},
   "outputs": [],
   "source": [
    "#import libraries\n",
    "import pandas as pd\n",
    "import numpy as np\n",
    "from sklearn.model_selection import train_test_split\n",
    "from sklearn.linear_model import LogisticRegression \n",
    "from sklearn.metrics import roc_auc_score\n",
    "from sklearn.metrics import roc_curve\n",
    "\n",
    "#load the dataset\n",
    "print(\"Loading the dataset...\")\n",
    "sorvetes = pd.read_csv('src/vendas_sorvetes.csv')\n",
    "\n",
    "\n",
    "#separate features and labels\n",
    "X, y = sorvetes[['Temperatura (°C)']].values, sorvetes[[Quantidade de Sorvetes]].values\n",
    "\n",
    "#split the dataset into training set and test set\n",
    "X_train, X_test, y_train, y_test = train_test_split(X, y, test_size=0.2, random_state=0)\n",
    "\n",
    "#set regularization hyperparameter\n",
    "reg=0.01\n",
    "\n",
    "#train a logistic regression model\n",
    "print('Training a logistic regression model with regularization rate of', reg)\n",
    "model = LogisticRegression(C=1/reg, solver='liblinear').fit(X_train, y_train)\n",
    "\n",
    "#calculate accuracy\n",
    "y_hat = model\n",
    "acc = np.average(y_hat == y_test)\n",
    "print('Accuracy:', acc)\n",
    "\n",
    "#caculate AUC\n",
    "y_scores = model.predict_proba(X_test)\n",
    "auc = roc_auc_score(y_test, y_scores[:, 1])\n",
    "print('AUC:'+ str(auc)) \n",
    "\n",
    "#src/sorvetes-training.py"
   ]
  },
  {
   "cell_type": "code",
   "execution_count": null,
   "id": "845d3c80",
   "metadata": {},
   "outputs": [],
   "source": [
    "from azure.ai.ml import command\n",
    "\n",
    "#configure job\n",
    "job = command(\n",
    "    code =\"./src\",\n",
    "    command = \"python sorvetes-training.py\",\n",
    "    enviroment = \"AzureML-sklean-0.24-ubuntu20.04-py38-cpu:1\",\n",
    "    compute = \"aml-cluster\",\n",
    "    display_name = \"Training a logistic regression model\",\n",
    "    experiment_name = \"sorvetes-training\",\n",
    ")\n",
    "\n",
    "#submit job\n",
    "returned_job = ml_client.jobs.create_or_update(job)\n",
    "aml_url = returned_job.studio_url\n",
    "print(\"Monitor your job at\", aml_url)\n"
   ]
  }
 ],
 "metadata": {
  "kernelspec": {
   "display_name": "Python 3",
   "language": "python",
   "name": "python3"
  },
  "language_info": {
   "codemirror_mode": {
    "name": "ipython",
    "version": 3
   },
   "file_extension": ".py",
   "mimetype": "text/x-python",
   "name": "python",
   "nbconvert_exporter": "python",
   "pygments_lexer": "ipython3",
   "version": "3.11.9"
  }
 },
 "nbformat": 4,
 "nbformat_minor": 5
}
